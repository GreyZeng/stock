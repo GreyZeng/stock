{
 "cells": [
  {
   "cell_type": "code",
   "execution_count": 10,
   "id": "fb22a434",
   "metadata": {},
   "outputs": [
    {
     "name": "stdout",
     "output_type": "stream",
     "text": [
      "🚀 开始查询可转债 128013 的转股价调整历史...\n"
     ]
    },
    {
     "data": {
      "application/vnd.jupyter.widget-view+json": {
       "model_id": "5f175a5fd8f2454e80d8306d69612b02",
       "version_major": 2,
       "version_minor": 0
      },
      "text/plain": [
       "  0%|          | 0/2 [00:00<?, ?it/s]"
      ]
     },
     "metadata": {},
     "output_type": "display_data"
    },
    {
     "name": "stderr",
     "output_type": "stream",
     "text": [
      "C:\\Users\\zhuiz\\AppData\\Roaming\\Python\\Python313\\site-packages\\akshare\\bond\\bond_zh_cov.py:342: FutureWarning: The behavior of DataFrame concatenation with empty or all-NA entries is deprecated. In a future version, this will no longer exclude empty or all-NA columns when determining the result dtypes. To retain the old behavior, exclude the relevant entries before the concat operation.\n",
      "  big_df = pd.concat(objs=[big_df, temp_df], ignore_index=True)\n"
     ]
    },
    {
     "name": "stdout",
     "output_type": "stream",
     "text": [
      "  - 查找到债券简称为: 洪涛转债\n",
      "  - 正在从集思录获取 128013 的调整记录...\n",
      "  - 数据获取成功，正在整理格式...\n",
      "\n",
      "--- 查询结果 ---\n"
     ]
    },
    {
     "data": {
      "text/html": [
       "<div>\n",
       "<style scoped>\n",
       "    .dataframe tbody tr th:only-of-type {\n",
       "        vertical-align: middle;\n",
       "    }\n",
       "\n",
       "    .dataframe tbody tr th {\n",
       "        vertical-align: top;\n",
       "    }\n",
       "\n",
       "    .dataframe thead th {\n",
       "        text-align: right;\n",
       "    }\n",
       "</style>\n",
       "<table border=\"1\" class=\"dataframe\">\n",
       "  <thead>\n",
       "    <tr style=\"text-align: right;\">\n",
       "      <th></th>\n",
       "      <th>债券代码</th>\n",
       "      <th>债券简称</th>\n",
       "      <th>股东大会日</th>\n",
       "      <th>下修前转股价</th>\n",
       "      <th>下修后转股价</th>\n",
       "      <th>新转股价生效日期</th>\n",
       "      <th>下修底价</th>\n",
       "    </tr>\n",
       "  </thead>\n",
       "  <tbody>\n",
       "    <tr>\n",
       "      <th>0</th>\n",
       "      <td>128013</td>\n",
       "      <td>洪涛转债</td>\n",
       "      <td>2019-11-20</td>\n",
       "      <td>9.97</td>\n",
       "      <td>8.00</td>\n",
       "      <td>2019-11-21</td>\n",
       "      <td>3.10</td>\n",
       "    </tr>\n",
       "    <tr>\n",
       "      <th>1</th>\n",
       "      <td>128013</td>\n",
       "      <td>洪涛转债</td>\n",
       "      <td>2020-06-29</td>\n",
       "      <td>8.00</td>\n",
       "      <td>3.12</td>\n",
       "      <td>2020-06-30</td>\n",
       "      <td>3.12</td>\n",
       "    </tr>\n",
       "    <tr>\n",
       "      <th>2</th>\n",
       "      <td>128013</td>\n",
       "      <td>洪涛转债</td>\n",
       "      <td>2021-02-23</td>\n",
       "      <td>3.10</td>\n",
       "      <td>2.32</td>\n",
       "      <td>2021-02-24</td>\n",
       "      <td>2.32</td>\n",
       "    </tr>\n",
       "  </tbody>\n",
       "</table>\n",
       "</div>"
      ],
      "text/plain": [
       "     债券代码  债券简称       股东大会日  下修前转股价  下修后转股价    新转股价生效日期  下修底价\n",
       "0  128013  洪涛转债  2019-11-20    9.97    8.00  2019-11-21  3.10\n",
       "1  128013  洪涛转债  2020-06-29    8.00    3.12  2020-06-30  3.12\n",
       "2  128013  洪涛转债  2021-02-23    3.10    2.32  2021-02-24  2.32"
      ]
     },
     "metadata": {},
     "output_type": "display_data"
    },
    {
     "name": "stdout",
     "output_type": "stream",
     "text": [
      "\n",
      "🎉 任务成功完成！数据已保存至您的当前目录下的 '128013_洪涛转债_转股价调整记录.xlsx' 文件中。\n"
     ]
    }
   ],
   "source": [
    "import akshare as ak\n",
    "import pandas as pd\n",
    "import time\n",
    "\n",
    "def get_single_bond_adjustment_history(bond_code: str):\n",
    "    \"\"\"\n",
    "    获取指定可转债的转股价调整历史记录。\n",
    "\n",
    "    Args:\n",
    "        bond_code (str): 需要查询的可转债代码，例如 \"128013\"。\n",
    "    \"\"\"\n",
    "    print(f\"🚀 开始查询可转债 {bond_code} 的转股价调整历史...\")\n",
    "\n",
    "    # --- 步骤 1: 获取债券简称，让输出更友好 ---\n",
    "    bond_name = \"未知简称\" # 默认值\n",
    "    try:\n",
    "        # 借用可转债列表接口快速查询简称\n",
    "        bond_list_df = ak.bond_zh_cov()\n",
    "        name_series = bond_list_df[bond_list_df['债券代码'] == bond_code]['债券简称']\n",
    "        if not name_series.empty:\n",
    "            bond_name = name_series.iloc[0]\n",
    "        print(f\"  - 查找到债券简称为: {bond_name}\")\n",
    "    except Exception as e:\n",
    "        print(f\"  ⚠️ 查询债券简称时遇到问题: {e}，将使用默认名称。\")\n",
    "\n",
    "    # --- 步骤 2: 查询转股价调整记录 ---\n",
    "    try:\n",
    "        print(f\"  - 正在从集思录获取 {bond_code} 的调整记录...\")\n",
    "        adj_log_df = ak.bond_cb_adj_logs_jsl(symbol=bond_code)\n",
    "\n",
    "        # --- 步骤 3: 处理与输出 ---\n",
    "        if adj_log_df.empty:\n",
    "            print(f\"\\n✅ 查询完成：未找到可转债 {bond_code} ({bond_name}) 的任何转股价调整记录。\")\n",
    "            return\n",
    "\n",
    "        print(\"  - 数据获取成功，正在整理格式...\")\n",
    "        # 为表格添加代码和简称列，便于识别\n",
    "        adj_log_df['债券代码'] = bond_code\n",
    "        adj_log_df['债券简称'] = bond_name\n",
    "        \n",
    "        # 调整列顺序，让关键信息更靠前\n",
    "        cols_order = [\n",
    "            '债券代码', '债券简称', '股东大会日', '下修前转股价', \n",
    "            '下修后转股价', '新转股价生效日期', '下修底价'\n",
    "        ]\n",
    "        final_df = adj_log_df[cols_order].sort_values(by='新转股价生效日期').reset_index(drop=True)\n",
    "        \n",
    "        # 在Jupyter中直接美观地展示DataFrame\n",
    "        print(\"\\n--- 查询结果 ---\")\n",
    "        display(final_df) # 在Jupyter中，display()比print()更适合展示DataFrame\n",
    "\n",
    "        # 导出到Excel\n",
    "        output_filename = f\"{bond_code}_{bond_name}_转股价调整记录.xlsx\"\n",
    "        final_df.to_excel(output_filename, index=False)\n",
    "        print(f\"\\n🎉 任务成功完成！数据已保存至您的当前目录下的 '{output_filename}' 文件中。\")\n",
    "\n",
    "    except Exception as e:\n",
    "        print(f\"\\n❌ 查询或处理过程中发生错误: {e}\")\n",
    "        print(\"   请检查输入的债券代码是否正确，或网络连接是否正常。\")\n",
    "\n",
    "# --- 如何使用 ---\n",
    "if __name__ == '__main__':\n",
    "    # 请在这里输入你想要查询的可转债代码\n",
    "    bond_code_to_query = \"128013\"  # 这是一个很好的例子，因为它有多条调整记录\n",
    "    \n",
    "    # 调用函数执行查询\n",
    "    get_single_bond_adjustment_history(bond_code_to_query)\n",
    "    \n",
    "    # 你也可以查询一个没有调整记录的例子\n",
    "    # print(\"\\n\" + \"=\"*50 + \"\\n\")\n",
    "    # get_single_bond_adjustment_history(bond_code=\"110088\")"
   ]
  }
 ],
 "metadata": {
  "kernelspec": {
   "display_name": "Python 3",
   "language": "python",
   "name": "python3"
  },
  "language_info": {
   "codemirror_mode": {
    "name": "ipython",
    "version": 3
   },
   "file_extension": ".py",
   "mimetype": "text/x-python",
   "name": "python",
   "nbconvert_exporter": "python",
   "pygments_lexer": "ipython3",
   "version": "3.13.7"
  }
 },
 "nbformat": 4,
 "nbformat_minor": 5
}
